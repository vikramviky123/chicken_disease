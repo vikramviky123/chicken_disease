{
 "cells": [
  {
   "cell_type": "code",
   "execution_count": 1,
   "metadata": {},
   "outputs": [],
   "source": [
    "import os"
   ]
  },
  {
   "cell_type": "code",
   "execution_count": 2,
   "metadata": {},
   "outputs": [],
   "source": [
    "os.chdir('../')"
   ]
  },
  {
   "cell_type": "code",
   "execution_count": 3,
   "metadata": {},
   "outputs": [
    {
     "data": {
      "text/plain": [
       "'c:\\\\Users\\\\91981\\\\Desktop\\\\GREAT LEARNING\\\\FROM SCRATCH LEARNING\\\\Krish Naik Projects\\\\WIP\\\\chicken_disease'"
      ]
     },
     "execution_count": 3,
     "metadata": {},
     "output_type": "execute_result"
    }
   ],
   "source": [
    "%pwd"
   ]
  },
  {
   "cell_type": "code",
   "execution_count": 4,
   "metadata": {},
   "outputs": [],
   "source": [
    "from CD_Classifier.c_config.configuration import ConfigurationManager\n",
    "from CD_Classifier.d_components.evaluation import Evaluation"
   ]
  },
  {
   "cell_type": "code",
   "execution_count": 6,
   "metadata": {},
   "outputs": [
    {
     "name": "stdout",
     "output_type": "stream",
     "text": [
      "[ 2023-11-06 17:02:02,081 ] 33 root - INFO - yaml file: config\\config.yaml loaded successfully\n",
      "[ 2023-11-06 17:02:02,089 ] 33 root - INFO - yaml file: params.yaml loaded successfully\n",
      "[ 2023-11-06 17:02:02,093 ] 54 root - INFO - created directory at: artifacts\n"
     ]
    }
   ],
   "source": [
    "# Configuring evaluation directories/ creating paths for evaluation directories\n",
    "config = ConfigurationManager()\n",
    "# Creating the evaluation configuration instance\n",
    "eval_config = config.get_validation_config()"
   ]
  },
  {
   "cell_type": "code",
   "execution_count": 7,
   "metadata": {},
   "outputs": [
    {
     "data": {
      "text/plain": [
       "EvaluationConfig(path_of_model=WindowsPath('artifacts/training/model.h5'), training_data=WindowsPath('artifacts/data_ingestion/Chicken-fecal-images'), all_params=ConfigBox({'AUGMENTATION': True, 'IMAGE_SIZE': [224, 224, 3], 'BATCH_SIZE': 16, 'INCLUDE_TOP': False, 'EPOCHS': 1, 'CLASSES': 2, 'WEIGHTS': 'imagenet', 'LEARNING_RATE': 0.01}), params_image_size=BoxList([224, 224, 3]), params_batch_size=16)"
      ]
     },
     "execution_count": 7,
     "metadata": {},
     "output_type": "execute_result"
    }
   ],
   "source": [
    "eval_config"
   ]
  },
  {
   "cell_type": "code",
   "execution_count": 8,
   "metadata": {},
   "outputs": [
    {
     "name": "stdout",
     "output_type": "stream",
     "text": [
      "Found 116 images belonging to 2 classes.\n",
      "8/8 [==============================] - 14s 2s/step - loss: 24.5999 - accuracy: 0.5000\n",
      "[ 2023-11-06 17:53:10,085 ] 70 root - INFO - json file saved at: scores.json\n"
     ]
    }
   ],
   "source": [
    "# Loading eval config into Evaluating instance\n",
    "evaluation = Evaluation(eval_config)\n",
    "evaluation.evaluation()\n",
    "evaluation.save_score()"
   ]
  },
  {
   "cell_type": "code",
   "execution_count": null,
   "metadata": {},
   "outputs": [],
   "source": []
  }
 ],
 "metadata": {
  "kernelspec": {
   "display_name": "Python 3",
   "language": "python",
   "name": "python3"
  },
  "language_info": {
   "codemirror_mode": {
    "name": "ipython",
    "version": 3
   },
   "file_extension": ".py",
   "mimetype": "text/x-python",
   "name": "python",
   "nbconvert_exporter": "python",
   "pygments_lexer": "ipython3",
   "version": "3.10.9"
  }
 },
 "nbformat": 4,
 "nbformat_minor": 2
}
