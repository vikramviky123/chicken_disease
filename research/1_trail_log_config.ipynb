{
 "cells": [
  {
   "cell_type": "code",
   "execution_count": 1,
   "metadata": {},
   "outputs": [],
   "source": [
    "import os\n",
    "import sys\n",
    "import logging\n",
    "\n",
    "from datetime import datetime"
   ]
  },
  {
   "cell_type": "code",
   "execution_count": 2,
   "metadata": {},
   "outputs": [
    {
     "data": {
      "text/plain": [
       "datetime.datetime(2023, 11, 5, 21, 39, 32, 563809)"
      ]
     },
     "execution_count": 2,
     "metadata": {},
     "output_type": "execute_result"
    }
   ],
   "source": [
    "datetime.now()"
   ]
  },
  {
   "cell_type": "code",
   "execution_count": 3,
   "metadata": {},
   "outputs": [
    {
     "data": {
      "text/plain": [
       "'c:\\\\Users\\\\91981\\\\Desktop\\\\GREAT LEARNING\\\\FROM SCRATCH LEARNING\\\\Krish Naik Projects\\\\WIP\\\\chicken_disease\\\\research'"
      ]
     },
     "execution_count": 3,
     "metadata": {},
     "output_type": "execute_result"
    }
   ],
   "source": [
    "%pwd"
   ]
  },
  {
   "cell_type": "code",
   "execution_count": 4,
   "metadata": {},
   "outputs": [],
   "source": [
    "os.chdir('../')"
   ]
  },
  {
   "cell_type": "code",
   "execution_count": 5,
   "metadata": {},
   "outputs": [],
   "source": [
    "from src.CD_Classifier import logging, CustomException"
   ]
  },
  {
   "cell_type": "code",
   "execution_count": 6,
   "metadata": {},
   "outputs": [
    {
     "name": "stdout",
     "output_type": "stream",
     "text": [
      "[ 2023-11-05 21:39:41,260 ] 1 root - INFO - First logging\n"
     ]
    }
   ],
   "source": [
    "logging.info(\"First logging\")"
   ]
  },
  {
   "cell_type": "code",
   "execution_count": 7,
   "metadata": {},
   "outputs": [],
   "source": [
    "from src.CD_Classifier.a_constants import *"
   ]
  },
  {
   "cell_type": "code",
   "execution_count": 8,
   "metadata": {},
   "outputs": [
    {
     "data": {
      "text/plain": [
       "WindowsPath('config/config.yaml')"
      ]
     },
     "execution_count": 8,
     "metadata": {},
     "output_type": "execute_result"
    }
   ],
   "source": [
    "CONFIG_FILE_PATH"
   ]
  },
  {
   "cell_type": "code",
   "execution_count": 9,
   "metadata": {},
   "outputs": [],
   "source": [
    "import yaml"
   ]
  },
  {
   "cell_type": "code",
   "execution_count": 10,
   "metadata": {},
   "outputs": [],
   "source": [
    "with open(CONFIG_FILE_PATH) as f:\n",
    "    content  = yaml.safe_load(f)"
   ]
  },
  {
   "cell_type": "code",
   "execution_count": 11,
   "metadata": {},
   "outputs": [
    {
     "data": {
      "text/plain": [
       "{'artifacts_root': 'artifacts',\n",
       " 'data_ingestion': {'root_dir': 'artifacts/data_ingestion',\n",
       "  'source_URL': 'https://github.com/entbappy/Branching-tutorial/raw/master/Chicken-fecal-images.zip',\n",
       "  'local_data_file': 'artifacts/data_ingestion/data.zip',\n",
       "  'unzip_dir': 'artifacts/data_ingestion'},\n",
       " 'prepare_base_model': {'root_dir': 'artifacts/prepare_base_model',\n",
       "  'base_model_path': 'artifacts/prepare_base_model/base_model.h5',\n",
       "  'updated_base_model_path': 'artifacts/prepare_base_model/base_model_updated.h5'},\n",
       " 'prepare_callbacks': {'root_dir': 'artifacts/prepare_callbacks',\n",
       "  'tensorboard_root_log_dir': 'artifacts/prepare_callbacks/tensorboard_log_dir',\n",
       "  'checkpoint_model_filepath': 'artifacts/prepare_callbacks/checkpoint_dir/model.h5'},\n",
       " 'training': {'root_dir': 'artifacts/training',\n",
       "  'trained_model_path': 'artifacts/training/model.h5'}}"
      ]
     },
     "execution_count": 11,
     "metadata": {},
     "output_type": "execute_result"
    }
   ],
   "source": [
    "content"
   ]
  },
  {
   "cell_type": "code",
   "execution_count": 12,
   "metadata": {},
   "outputs": [
    {
     "data": {
      "text/plain": [
       "dict_keys(['artifacts_root', 'data_ingestion', 'prepare_base_model', 'prepare_callbacks', 'training'])"
      ]
     },
     "execution_count": 12,
     "metadata": {},
     "output_type": "execute_result"
    }
   ],
   "source": [
    "content.keys()"
   ]
  },
  {
   "cell_type": "code",
   "execution_count": 13,
   "metadata": {},
   "outputs": [
    {
     "data": {
      "text/plain": [
       "'artifacts'"
      ]
     },
     "execution_count": 13,
     "metadata": {},
     "output_type": "execute_result"
    }
   ],
   "source": [
    "content['artifacts_root']"
   ]
  },
  {
   "cell_type": "markdown",
   "metadata": {},
   "source": [
    "# Exception"
   ]
  },
  {
   "cell_type": "code",
   "execution_count": 14,
   "metadata": {},
   "outputs": [],
   "source": [
    "from src.CD_Classifier import CustomException"
   ]
  },
  {
   "cell_type": "code",
   "execution_count": 18,
   "metadata": {},
   "outputs": [
    {
     "name": "stdout",
     "output_type": "stream",
     "text": [
      "[ 2023-11-05 21:42:18,746 ] 8 root - INFO - Error occured in python script name [C:\\Users\\91981\\AppData\\Local\\Temp\\ipykernel_24108\\4226954756.py] line number [5] error message[division by zero]\n",
      "--------------------------------------------------------------------------------\n",
      "Error occured in python script name [C:\\Users\\91981\\AppData\\Local\\Temp\\ipykernel_24108\\4226954756.py] line number [5] error message[division by zero]\n",
      "--------------------------------------------------------------------------------\n"
     ]
    },
    {
     "ename": "CustomException",
     "evalue": "Error occured in python script name [C:\\Users\\91981\\AppData\\Local\\Temp\\ipykernel_24108\\4226954756.py] line number [5] error message[division by zero]",
     "output_type": "error",
     "traceback": [
      "\u001b[1;31m---------------------------------------------------------------------------\u001b[0m",
      "\u001b[1;31mZeroDivisionError\u001b[0m                         Traceback (most recent call last)",
      "\u001b[1;32mc:\\Users\\91981\\Desktop\\GREAT LEARNING\\FROM SCRATCH LEARNING\\Krish Naik Projects\\WIP\\chicken_disease\\research\\1_trail_log_config.ipynb Cell 16\u001b[0m line \u001b[0;36m5\n\u001b[0;32m      <a href='vscode-notebook-cell:/c%3A/Users/91981/Desktop/GREAT%20LEARNING/FROM%20SCRATCH%20LEARNING/Krish%20Naik%20Projects/WIP/chicken_disease/research/1_trail_log_config.ipynb#X21sZmlsZQ%3D%3D?line=2'>3</a>\u001b[0m     b \u001b[39m=\u001b[39m \u001b[39m0\u001b[39m\n\u001b[1;32m----> <a href='vscode-notebook-cell:/c%3A/Users/91981/Desktop/GREAT%20LEARNING/FROM%20SCRATCH%20LEARNING/Krish%20Naik%20Projects/WIP/chicken_disease/research/1_trail_log_config.ipynb#X21sZmlsZQ%3D%3D?line=4'>5</a>\u001b[0m     c \u001b[39m=\u001b[39m a\u001b[39m/\u001b[39;49mb\n\u001b[0;32m      <a href='vscode-notebook-cell:/c%3A/Users/91981/Desktop/GREAT%20LEARNING/FROM%20SCRATCH%20LEARNING/Krish%20Naik%20Projects/WIP/chicken_disease/research/1_trail_log_config.ipynb#X21sZmlsZQ%3D%3D?line=6'>7</a>\u001b[0m \u001b[39mexcept\u001b[39;00m \u001b[39mException\u001b[39;00m \u001b[39mas\u001b[39;00m e:\n",
      "\u001b[1;31mZeroDivisionError\u001b[0m: division by zero",
      "\nDuring handling of the above exception, another exception occurred:\n",
      "\u001b[1;31mCustomException\u001b[0m                           Traceback (most recent call last)",
      "\u001b[1;32mc:\\Users\\91981\\Desktop\\GREAT LEARNING\\FROM SCRATCH LEARNING\\Krish Naik Projects\\WIP\\chicken_disease\\research\\1_trail_log_config.ipynb Cell 16\u001b[0m line \u001b[0;36m1\n\u001b[0;32m     <a href='vscode-notebook-cell:/c%3A/Users/91981/Desktop/GREAT%20LEARNING/FROM%20SCRATCH%20LEARNING/Krish%20Naik%20Projects/WIP/chicken_disease/research/1_trail_log_config.ipynb#X21sZmlsZQ%3D%3D?line=9'>10</a>\u001b[0m \u001b[39mprint\u001b[39m(CustomException(e,sys))\n\u001b[0;32m     <a href='vscode-notebook-cell:/c%3A/Users/91981/Desktop/GREAT%20LEARNING/FROM%20SCRATCH%20LEARNING/Krish%20Naik%20Projects/WIP/chicken_disease/research/1_trail_log_config.ipynb#X21sZmlsZQ%3D%3D?line=10'>11</a>\u001b[0m \u001b[39mprint\u001b[39m(\u001b[39m\"\u001b[39m\u001b[39m-\u001b[39m\u001b[39m\"\u001b[39m\u001b[39m*\u001b[39m\u001b[39m80\u001b[39m)\n\u001b[1;32m---> <a href='vscode-notebook-cell:/c%3A/Users/91981/Desktop/GREAT%20LEARNING/FROM%20SCRATCH%20LEARNING/Krish%20Naik%20Projects/WIP/chicken_disease/research/1_trail_log_config.ipynb#X21sZmlsZQ%3D%3D?line=11'>12</a>\u001b[0m \u001b[39mraise\u001b[39;00m CustomException(e,sys)\n",
      "\u001b[1;31mCustomException\u001b[0m: Error occured in python script name [C:\\Users\\91981\\AppData\\Local\\Temp\\ipykernel_24108\\4226954756.py] line number [5] error message[division by zero]"
     ]
    }
   ],
   "source": [
    "try:\n",
    "    a= 10\n",
    "    b = 0\n",
    "    \n",
    "    c = a/b\n",
    "    \n",
    "except Exception as e:\n",
    "    logging.info(f\"{CustomException(e,sys)}\")\n",
    "    print(\"-\"*80)\n",
    "    print(CustomException(e,sys))\n",
    "    print(\"-\"*80)\n",
    "    raise CustomException(e,sys)"
   ]
  }
 ],
 "metadata": {
  "kernelspec": {
   "display_name": "Python 3",
   "language": "python",
   "name": "python3"
  },
  "language_info": {
   "codemirror_mode": {
    "name": "ipython",
    "version": 3
   },
   "file_extension": ".py",
   "mimetype": "text/x-python",
   "name": "python",
   "nbconvert_exporter": "python",
   "pygments_lexer": "ipython3",
   "version": "3.10.9"
  }
 },
 "nbformat": 4,
 "nbformat_minor": 2
}
