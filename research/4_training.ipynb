{
 "cells": [
  {
   "cell_type": "code",
   "execution_count": 1,
   "metadata": {},
   "outputs": [
    {
     "data": {
      "text/plain": [
       "'c:\\\\Users\\\\91981\\\\Desktop\\\\GREAT LEARNING\\\\FROM SCRATCH LEARNING\\\\Krish Naik Projects\\\\WIP\\\\chicken_disease\\\\research'"
      ]
     },
     "execution_count": 1,
     "metadata": {},
     "output_type": "execute_result"
    }
   ],
   "source": [
    "%pwd"
   ]
  },
  {
   "cell_type": "code",
   "execution_count": 2,
   "metadata": {},
   "outputs": [],
   "source": [
    "import os\n",
    "os.chdir('../')"
   ]
  },
  {
   "cell_type": "code",
   "execution_count": 3,
   "metadata": {},
   "outputs": [
    {
     "data": {
      "text/plain": [
       "'c:\\\\Users\\\\91981\\\\Desktop\\\\GREAT LEARNING\\\\FROM SCRATCH LEARNING\\\\Krish Naik Projects\\\\WIP\\\\chicken_disease'"
      ]
     },
     "execution_count": 3,
     "metadata": {},
     "output_type": "execute_result"
    }
   ],
   "source": [
    "%pwd"
   ]
  },
  {
   "cell_type": "code",
   "execution_count": 4,
   "metadata": {},
   "outputs": [
    {
     "data": {
      "text/plain": [
       "'C:/Users/username/Documents/example.txt'"
      ]
     },
     "execution_count": 4,
     "metadata": {},
     "output_type": "execute_result"
    }
   ],
   "source": [
    "from pathlib import Path\n",
    "\n",
    "# Create a Path object\n",
    "path_object = Path(\"C:\\\\Users\\\\username\\\\Documents\\\\example.txt\")\n",
    "\n",
    "# Convert the Path object to a string in POSIX format\n",
    "posix_path_string = path_object.as_posix()\n",
    "\n",
    "# Print the result\n",
    "posix_path_string\n"
   ]
  },
  {
   "cell_type": "code",
   "execution_count": 5,
   "metadata": {},
   "outputs": [],
   "source": [
    "from CD_Classifier.b_entity.config_entity import (TrainingConfig, \n",
    "                                                  BaseModelConfig, \n",
    "                                                  CallbacksConfig, \n",
    "                                                  EvaluationConfig)\n",
    "from CD_Classifier.c_config.configuration import ConfigurationManager\n",
    "from CD_Classifier.d_components.training import Training\n",
    "from CD_Classifier.d_components.callbacks import Callback"
   ]
  },
  {
   "cell_type": "code",
   "execution_count": 6,
   "metadata": {},
   "outputs": [
    {
     "name": "stdout",
     "output_type": "stream",
     "text": [
      "[ 2023-11-06 15:32:30,607 ] 33 root - INFO - yaml file: config\\config.yaml loaded successfully\n",
      "[ 2023-11-06 15:32:30,621 ] 33 root - INFO - yaml file: params.yaml loaded successfully\n",
      "[ 2023-11-06 15:32:30,623 ] 54 root - INFO - created directory at: artifacts\n",
      "[ 2023-11-06 15:32:30,625 ] 54 root - INFO - created directory at: artifacts\\callbacks\\checkpoint_dir\n",
      "[ 2023-11-06 15:32:30,625 ] 54 root - INFO - created directory at: artifacts\\callbacks\\tensorboard_log_dir\n"
     ]
    }
   ],
   "source": [
    "# Creating configuration manager instance\n",
    "config = ConfigurationManager()\n",
    "# Configuring callback directories/ creating paths for callback directories\n",
    "prepare_callbacks_config = config.get_callback_config()\n",
    "# Configuring & Creating directories, Callbacks object\n",
    "prepare_callbacks = Callback(config=prepare_callbacks_config)\n",
    "callback_list = prepare_callbacks.get_tb_ckpt_callbacks()"
   ]
  },
  {
   "cell_type": "code",
   "execution_count": 12,
   "metadata": {},
   "outputs": [
    {
     "data": {
      "text/plain": [
       "CallbacksConfig(root_dir=WindowsPath('artifacts/callbacks'), tensorboard_root_log_dir=WindowsPath('artifacts/callbacks/tensorboard_log_dir'), checkpoint_model_filepath=WindowsPath('artifacts/callbacks/checkpoint_dir/model.h5'))"
      ]
     },
     "execution_count": 12,
     "metadata": {},
     "output_type": "execute_result"
    }
   ],
   "source": [
    "prepare_callbacks_config"
   ]
  },
  {
   "cell_type": "code",
   "execution_count": 11,
   "metadata": {},
   "outputs": [
    {
     "data": {
      "text/plain": [
       "<keras.src.callbacks.TensorBoard at 0x2b14dd0ab90>"
      ]
     },
     "execution_count": 11,
     "metadata": {},
     "output_type": "execute_result"
    }
   ],
   "source": [
    "callback_list[0]"
   ]
  },
  {
   "cell_type": "code",
   "execution_count": 13,
   "metadata": {},
   "outputs": [
    {
     "name": "stdout",
     "output_type": "stream",
     "text": [
      "[ 2023-11-06 15:52:08,726 ] 54 root - INFO - created directory at: artifacts\\training\n"
     ]
    }
   ],
   "source": [
    "# Configuring training directories/ creating paths for training directories\n",
    "training_config = config.get_training_config()\n",
    "# Loading the training configuration into Training\n",
    "training = Training(config=training_config)"
   ]
  },
  {
   "cell_type": "code",
   "execution_count": 14,
   "metadata": {},
   "outputs": [
    {
     "data": {
      "text/plain": [
       "TrainingConfig(root_dir=WindowsPath('artifacts/training'), trained_model_path=WindowsPath('artifacts/training/model.h5'), updated_base_model_path=WindowsPath('artifacts/base_model/base_model_updated.h5'), training_data=WindowsPath('artifacts/data_ingestion/Chicken-fecal-images'), params_epochs=1, params_batch_size=16, params_is_augmentation=True, params_image_size=BoxList([224, 224, 3]))"
      ]
     },
     "execution_count": 14,
     "metadata": {},
     "output_type": "execute_result"
    }
   ],
   "source": [
    "training_config"
   ]
  },
  {
   "cell_type": "code",
   "execution_count": 15,
   "metadata": {},
   "outputs": [
    {
     "name": "stdout",
     "output_type": "stream",
     "text": [
      "Found 78 images belonging to 2 classes.\n",
      "Found 312 images belonging to 2 classes.\n",
      "19/19 [==============================] - 42s 2s/step - loss: 13.4969 - accuracy: 0.5169 - val_loss: 35.4867 - val_accuracy: 0.3906\n"
     ]
    },
    {
     "name": "stderr",
     "output_type": "stream",
     "text": [
      "c:\\Users\\91981\\Desktop\\GREAT LEARNING\\FROM SCRATCH LEARNING\\Krish Naik Projects\\WIP\\chicken_disease\\chickenv\\lib\\site-packages\\keras\\src\\engine\\training.py:3079: UserWarning: You are saving your model as an HDF5 file via `model.save()`. This file format is considered legacy. We recommend using instead the native Keras format, e.g. `model.save('my_model.keras')`.\n",
      "  saving_api.save_model(\n"
     ]
    }
   ],
   "source": [
    "# training the data\n",
    "training.get_base_model()\n",
    "training.train_valid_generator()\n",
    "training.train(callback_list=callback_list)"
   ]
  }
 ],
 "metadata": {
  "kernelspec": {
   "display_name": "Python 3",
   "language": "python",
   "name": "python3"
  },
  "language_info": {
   "codemirror_mode": {
    "name": "ipython",
    "version": 3
   },
   "file_extension": ".py",
   "mimetype": "text/x-python",
   "name": "python",
   "nbconvert_exporter": "python",
   "pygments_lexer": "ipython3",
   "version": "3.10.9"
  }
 },
 "nbformat": 4,
 "nbformat_minor": 2
}
